{
 "cells": [
  {
   "cell_type": "code",
   "execution_count": 1,
   "id": "ff2c3773-4fc2-4317-8898-a781ade5a7a9",
   "metadata": {
    "tags": []
   },
   "outputs": [
    {
     "name": "stdout",
     "output_type": "stream",
     "text": [
      "cat: /data/core-kind/fatemeh: Is a directory\n"
     ]
    }
   ],
   "source": [
    "cat $HOME"
   ]
  },
  {
   "cell_type": "code",
   "execution_count": 3,
   "id": "174748e2-b600-4658-b85e-df3604d62ea8",
   "metadata": {
    "tags": []
   },
   "outputs": [
    {
     "name": "stdout",
     "output_type": "stream",
     "text": [
      "Collecting gdown\n",
      "  Downloading gdown-4.7.3-py3-none-any.whl (16 kB)\n",
      "Collecting filelock\n",
      "  Downloading filelock-3.12.2-py3-none-any.whl (10 kB)\n",
      "Requirement already satisfied: tqdm in /data/core-kind/fatemeh/miniconda3/envs/retfound/lib/python3.7/site-packages (from gdown) (4.62.1)\n",
      "Requirement already satisfied: six in /data/core-kind/fatemeh/miniconda3/envs/retfound/lib/python3.7/site-packages (from gdown) (1.16.0)\n",
      "Requirement already satisfied: requests[socks] in /data/core-kind/fatemeh/miniconda3/envs/retfound/lib/python3.7/site-packages (from gdown) (2.32.2)\n",
      "Requirement already satisfied: beautifulsoup4 in /data/core-kind/fatemeh/miniconda3/envs/retfound/lib/python3.7/site-packages (from gdown) (4.12.3)\n",
      "Requirement already satisfied: soupsieve>1.2 in /data/core-kind/fatemeh/miniconda3/envs/retfound/lib/python3.7/site-packages (from beautifulsoup4->gdown) (2.3.2.post1)\n",
      "Requirement already satisfied: idna<4,>=2.5 in /data/core-kind/fatemeh/miniconda3/envs/retfound/lib/python3.7/site-packages (from requests[socks]->gdown) (3.10)\n",
      "Requirement already satisfied: charset-normalizer<4,>=2 in /data/core-kind/fatemeh/miniconda3/envs/retfound/lib/python3.7/site-packages (from requests[socks]->gdown) (3.4.0)\n",
      "Requirement already satisfied: urllib3<3,>=1.21.1 in /data/core-kind/fatemeh/miniconda3/envs/retfound/lib/python3.7/site-packages (from requests[socks]->gdown) (2.2.1)\n",
      "Requirement already satisfied: certifi>=2017.4.17 in /data/core-kind/fatemeh/miniconda3/envs/retfound/lib/python3.7/site-packages (from requests[socks]->gdown) (2024.8.30)\n",
      "Requirement already satisfied: PySocks!=1.5.7,>=1.5.6 in /data/core-kind/fatemeh/miniconda3/envs/retfound/lib/python3.7/site-packages (from requests[socks]->gdown) (1.7.1)\n",
      "Installing collected packages: filelock, gdown\n",
      "Successfully installed filelock-3.12.2 gdown-4.7.3\n",
      "Note: you may need to restart the kernel to use updated packages.\n"
     ]
    }
   ],
   "source": [
    "pip install gdown\n"
   ]
  },
  {
   "cell_type": "markdown",
   "id": "157f9a39-9cda-4334-8435-38faea704d44",
   "metadata": {
    "jp-MarkdownHeadingCollapsed": true,
    "tags": []
   },
   "source": [
    "# download data"
   ]
  },
  {
   "cell_type": "code",
   "execution_count": 2,
   "id": "51aac2b3-1362-4cfa-985c-7f16260df5f0",
   "metadata": {
    "tags": []
   },
   "outputs": [],
   "source": [
    "import gdown\n"
   ]
  },
  {
   "cell_type": "code",
   "execution_count": 1,
   "id": "d529c337-f255-4d9f-bb7f-5604d8f497f8",
   "metadata": {
    "collapsed": true,
    "jupyter": {
     "outputs_hidden": true
    },
    "tags": []
   },
   "outputs": [
    {
     "ename": "NameError",
     "evalue": "name 'gdown' is not defined",
     "output_type": "error",
     "traceback": [
      "\u001b[0;31m---------------------------------------------------------------------------\u001b[0m",
      "\u001b[0;31mNameError\u001b[0m                                 Traceback (most recent call last)",
      "\u001b[0;32m/tmp/ipykernel_3803496/4172367556.py\u001b[0m in \u001b[0;36m<module>\u001b[0;34m\u001b[0m\n\u001b[1;32m      2\u001b[0m \u001b[0murl\u001b[0m \u001b[0;34m=\u001b[0m \u001b[0;34mf\"https://drive.google.com/uc?id={file_id}\"\u001b[0m\u001b[0;34m\u001b[0m\u001b[0;34m\u001b[0m\u001b[0m\n\u001b[1;32m      3\u001b[0m \u001b[0moutput\u001b[0m \u001b[0;34m=\u001b[0m \u001b[0;34m\"OCTID.zip\"\u001b[0m  \u001b[0;31m# Change the name as needed\u001b[0m\u001b[0;34m\u001b[0m\u001b[0;34m\u001b[0m\u001b[0m\n\u001b[0;32m----> 4\u001b[0;31m \u001b[0mgdown\u001b[0m\u001b[0;34m.\u001b[0m\u001b[0mdownload\u001b[0m\u001b[0;34m(\u001b[0m\u001b[0murl\u001b[0m\u001b[0;34m,\u001b[0m \u001b[0moutput\u001b[0m\u001b[0;34m,\u001b[0m \u001b[0mquiet\u001b[0m\u001b[0;34m=\u001b[0m\u001b[0;32mFalse\u001b[0m\u001b[0;34m)\u001b[0m\u001b[0;34m\u001b[0m\u001b[0;34m\u001b[0m\u001b[0m\n\u001b[0m",
      "\u001b[0;31mNameError\u001b[0m: name 'gdown' is not defined"
     ]
    }
   ],
   "source": [
    "file_id = \"1I7nAvbkJG4UF29J3HcyIW53rVEFcKRgm\"\n",
    "url = f\"https://drive.google.com/uc?id={file_id}\"\n",
    "output = \"OCTID.zip\"  # Change the name as needed\n",
    "gdown.download(url, output, quiet=False)"
   ]
  },
  {
   "cell_type": "code",
   "execution_count": 6,
   "id": "0b71f67f-e745-4952-8566-c7de6247a035",
   "metadata": {
    "tags": []
   },
   "outputs": [],
   "source": [
    "mv OCTID.zip ~/data/"
   ]
  },
  {
   "cell_type": "code",
   "execution_count": 7,
   "id": "5a580410-5e3f-4eda-b907-ff3fa4bedf5f",
   "metadata": {
    "tags": []
   },
   "outputs": [
    {
     "name": "stdout",
     "output_type": "stream",
     "text": [
      "/data/core-kind/fatemeh/data\n"
     ]
    }
   ],
   "source": [
    "cd ~/data"
   ]
  },
  {
   "cell_type": "markdown",
   "id": "94d53642-9c45-4f8b-86aa-bbe5547943cc",
   "metadata": {
    "jp-MarkdownHeadingCollapsed": true,
    "tags": []
   },
   "source": [
    "# download weights"
   ]
  },
  {
   "cell_type": "code",
   "execution_count": 10,
   "id": "7ed1b571-2605-4a80-ae39-b631c2cc9952",
   "metadata": {
    "tags": []
   },
   "outputs": [
    {
     "name": "stderr",
     "output_type": "stream",
     "text": [
      "Downloading...\n",
      "From (original): https://drive.google.com/uc?id=1m6s7QYkjyjJDlpEuXm7Xp3PmjN-elfW2\n",
      "From (redirected): https://drive.google.com/uc?id=1m6s7QYkjyjJDlpEuXm7Xp3PmjN-elfW2&confirm=t&uuid=cb1f31b1-8d64-4a48-9dfc-07ec2d63efe3\n",
      "To: /data/core-kind/fatemeh/data/oct_weights.zip\n",
      "100%|██████████| 3.95G/3.95G [00:44<00:00, 89.7MB/s]\n"
     ]
    },
    {
     "data": {
      "text/plain": [
       "'oct_weights.zip'"
      ]
     },
     "execution_count": 10,
     "metadata": {},
     "output_type": "execute_result"
    }
   ],
   "source": [
    "file_id = \"1m6s7QYkjyjJDlpEuXm7Xp3PmjN-elfW2\"\n",
    "url = f\"https://drive.google.com/uc?id={file_id}\"\n",
    "output = \"oct_weights.zip\"  # Change the name as needed\n",
    "gdown.download(url, output, quiet=False)"
   ]
  },
  {
   "cell_type": "code",
   "execution_count": 11,
   "id": "389a8f53-6e77-462d-81f5-a1b448f1cd28",
   "metadata": {
    "tags": []
   },
   "outputs": [],
   "source": [
    "mv oct_weights.zip oct_weights.pth"
   ]
  },
  {
   "cell_type": "markdown",
   "id": "c7b8a98f-4255-402b-be3e-6ce849d17ab4",
   "metadata": {},
   "source": [
    "# download cfp wights"
   ]
  },
  {
   "cell_type": "code",
   "execution_count": 3,
   "id": "c0cb6606-71fa-4d4e-8ed4-14dd95458cc2",
   "metadata": {
    "tags": []
   },
   "outputs": [
    {
     "name": "stderr",
     "output_type": "stream",
     "text": [
      "Downloading...\n",
      "From (original): https://drive.google.com/uc?id=1l62zbWUFTlp214SvK6eMwPQZAzcwoeBE\n",
      "From (redirected): https://drive.google.com/uc?id=1l62zbWUFTlp214SvK6eMwPQZAzcwoeBE&confirm=t&uuid=527e5ba7-8132-4513-8e1c-0976cf42bb24\n",
      "To: /data/core-kind/fatemeh/codes/notebooks/op_weights.zip\n",
      "100%|██████████| 3.95G/3.95G [00:32<00:00, 123MB/s] \n"
     ]
    },
    {
     "data": {
      "text/plain": [
       "'op_weights.zip'"
      ]
     },
     "execution_count": 3,
     "metadata": {},
     "output_type": "execute_result"
    }
   ],
   "source": [
    "\n",
    "file_id = \"1l62zbWUFTlp214SvK6eMwPQZAzcwoeBE\"\n",
    "url = f\"https://drive.google.com/uc?id={file_id}\"\n",
    "output = \"op_weights.zip\"  # Change the name as needed\n",
    "gdown.download(url, output, quiet=False)"
   ]
  },
  {
   "cell_type": "code",
   "execution_count": 4,
   "id": "0a25b8e0-acf9-4c4b-bb23-528b5d6dd082",
   "metadata": {
    "tags": []
   },
   "outputs": [],
   "source": [
    "mv op_weights.zip op_weights.pth"
   ]
  },
  {
   "cell_type": "code",
   "execution_count": 6,
   "id": "7ff078c2-fc84-442c-a43e-6c6d74e31d1c",
   "metadata": {
    "tags": []
   },
   "outputs": [],
   "source": [
    "mv op_weights.pth ~/data/"
   ]
  },
  {
   "cell_type": "code",
   "execution_count": null,
   "id": "2e577b4d-7cf5-4213-878d-3c9d68ab3ff2",
   "metadata": {},
   "outputs": [],
   "source": []
  }
 ],
 "metadata": {
  "kernelspec": {
   "display_name": "Python 3 (ipykernel)",
   "language": "python",
   "name": "python3"
  },
  "language_info": {
   "codemirror_mode": {
    "name": "ipython",
    "version": 3
   },
   "file_extension": ".py",
   "mimetype": "text/x-python",
   "name": "python",
   "nbconvert_exporter": "python",
   "pygments_lexer": "ipython3",
   "version": "3.7.12"
  }
 },
 "nbformat": 4,
 "nbformat_minor": 5
}
