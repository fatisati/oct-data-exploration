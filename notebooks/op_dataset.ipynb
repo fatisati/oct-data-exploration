{
 "cells": [
  {
   "cell_type": "code",
   "execution_count": 1,
   "id": "107565e9-fc8f-4052-bd73-efa1c44fa311",
   "metadata": {
    "tags": []
   },
   "outputs": [],
   "source": [
    "import os\n",
    "os.chdir('/data/core-kind/fatemeh/codes/data_exploration')"
   ]
  },
  {
   "cell_type": "code",
   "execution_count": 11,
   "id": "00bdc843-7342-4e62-8df7-bcdaf1341cf7",
   "metadata": {
    "tags": []
   },
   "outputs": [],
   "source": [
    "op = pd.read_csv('files/op.csv', index_col=0)\n"
   ]
  },
  {
   "cell_type": "code",
   "execution_count": 18,
   "id": "a1312002-feb6-4f3e-be13-cf086461c759",
   "metadata": {
    "tags": []
   },
   "outputs": [],
   "source": [
    "import importlib\n",
    "import process_dicoms\n",
    "importlib.reload(process_dicoms)\n",
    "from process_dicoms import *\n",
    "processor = DicomProcessor('/data/core-kind/fatemeh/data/op/', op)"
   ]
  },
  {
   "cell_type": "markdown",
   "id": "042321e2-000d-4adc-8897-a3c1579b0ca4",
   "metadata": {},
   "source": [
    "# test for one image, op images are grayscale, unlike in retfound paper"
   ]
  },
  {
   "cell_type": "code",
   "execution_count": 19,
   "id": "563ba41f-38f8-4c6a-9a68-d9e584a9f200",
   "metadata": {
    "tags": []
   },
   "outputs": [],
   "source": [
    "f = op.Filename.iloc[0]"
   ]
  },
  {
   "cell_type": "code",
   "execution_count": 20,
   "id": "c2e8a21c-ca29-4380-a5fe-cd98ee27cb24",
   "metadata": {
    "tags": []
   },
   "outputs": [],
   "source": [
    "self = processor\n",
    "meta, saved = self.process_single_dicom(os.path.join(self.folder_path, f))"
   ]
  },
  {
   "cell_type": "code",
   "execution_count": 21,
   "id": "61d9f231-4e6d-422a-a89a-4e68721ea1c9",
   "metadata": {
    "tags": []
   },
   "outputs": [
    {
     "data": {
      "text/plain": [
       "({'Filename': '1.2.276.0.75.2.2.42.50126425987.20210907100119750.3904841130.1.dcm',\n",
       "  'Status': 'Saved',\n",
       "  'Modality': 'OP',\n",
       "  'SOPClassUID': '1.2.840.10008.5.1.4.1.1.77.1.5.1',\n",
       "  'Laterality': 'R',\n",
       "  'PatientName': 'KK-SCIVIAS-00502^SS',\n",
       "  'has_pixel_array': True,\n",
       "  'ndim': 2},\n",
       " True)"
      ]
     },
     "execution_count": 21,
     "metadata": {},
     "output_type": "execute_result"
    }
   ],
   "source": [
    "meta, saved"
   ]
  },
  {
   "cell_type": "code",
   "execution_count": 23,
   "id": "dfdedb76-d43a-46b3-b774-9943bbf33cb1",
   "metadata": {
    "tags": []
   },
   "outputs": [],
   "source": [
    "dpath = os.path.join(self.folder_path, f)\n",
    "dicom = pydicom.dcmread(dpath)"
   ]
  },
  {
   "cell_type": "code",
   "execution_count": 24,
   "id": "da742752-108d-42c0-90ae-9cd1e2eada30",
   "metadata": {
    "tags": []
   },
   "outputs": [
    {
     "data": {
      "text/plain": [
       "'MONOCHROME2'"
      ]
     },
     "execution_count": 24,
     "metadata": {},
     "output_type": "execute_result"
    }
   ],
   "source": [
    "dicom.get(\"PhotometricInterpretation\", \"\")"
   ]
  },
  {
   "cell_type": "markdown",
   "id": "b23cbc83-f2d2-4952-a1e9-e6bea68c8a8d",
   "metadata": {},
   "source": [
    "# extract all images"
   ]
  },
  {
   "cell_type": "code",
   "execution_count": 25,
   "id": "2f12d745-018c-4ea6-9253-40adc3e5ee1f",
   "metadata": {
    "tags": []
   },
   "outputs": [
    {
     "name": "stdout",
     "output_type": "stream",
     "text": [
      "process zeiss, valid opt\n"
     ]
    },
    {
     "name": "stderr",
     "output_type": "stream",
     "text": [
      "100%|██████████| 4576/4576 [10:10<00:00,  7.49it/s]\n"
     ]
    }
   ],
   "source": [
    "processor.process_all()"
   ]
  },
  {
   "cell_type": "code",
   "execution_count": null,
   "id": "27ea54fc-2bc4-4782-bde8-f0b3c259a2e2",
   "metadata": {},
   "outputs": [],
   "source": []
  }
 ],
 "metadata": {
  "kernelspec": {
   "display_name": "Python 3 (ipykernel)",
   "language": "python",
   "name": "python3"
  },
  "language_info": {
   "codemirror_mode": {
    "name": "ipython",
    "version": 3
   },
   "file_extension": ".py",
   "mimetype": "text/x-python",
   "name": "python",
   "nbconvert_exporter": "python",
   "pygments_lexer": "ipython3",
   "version": "3.7.12"
  }
 },
 "nbformat": 4,
 "nbformat_minor": 5
}
