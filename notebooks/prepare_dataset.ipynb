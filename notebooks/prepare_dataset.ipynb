{
 "cells": [
  {
   "cell_type": "code",
   "execution_count": 2,
   "id": "259cb6f7-c82a-418c-b7fc-ee3ec7740b22",
   "metadata": {
    "tags": []
   },
   "outputs": [],
   "source": [
    "import pandas as pd"
   ]
  },
  {
   "cell_type": "markdown",
   "id": "a4e2ff19-9b82-44d4-85f1-2801da06fda8",
   "metadata": {
    "jp-MarkdownHeadingCollapsed": true,
    "tags": []
   },
   "source": [
    "# process labels"
   ]
  },
  {
   "cell_type": "code",
   "execution_count": 3,
   "id": "0074500d-6de4-41e5-b8b8-e5c2821b72d8",
   "metadata": {
    "tags": []
   },
   "outputs": [
    {
     "name": "stdout",
     "output_type": "stream",
     "text": [
      "Collecting xlrd==1.2.0\n",
      "  Downloading xlrd-1.2.0-py2.py3-none-any.whl (103 kB)\n",
      "\u001b[2K     \u001b[90m━━━━━━━━━━━━━━━━━━━━━━━━━━━━━━━━━━━━━━━\u001b[0m \u001b[32m103.3/103.3 kB\u001b[0m \u001b[31m4.6 MB/s\u001b[0m eta \u001b[36m0:00:00\u001b[0m\n",
      "\u001b[?25hInstalling collected packages: xlrd\n",
      "Successfully installed xlrd-1.2.0\n",
      "Note: you may need to restart the kernel to use updated packages.\n"
     ]
    }
   ],
   "source": [
    "pip install xlrd==1.2.0\n"
   ]
  },
  {
   "cell_type": "code",
   "execution_count": 111,
   "id": "dec535e6-f390-4973-8eb5-186e34e31eb3",
   "metadata": {
    "tags": []
   },
   "outputs": [
    {
     "data": {
      "text/html": [
       "<div>\n",
       "<style scoped>\n",
       "    .dataframe tbody tr th:only-of-type {\n",
       "        vertical-align: middle;\n",
       "    }\n",
       "\n",
       "    .dataframe tbody tr th {\n",
       "        vertical-align: top;\n",
       "    }\n",
       "\n",
       "    .dataframe thead th {\n",
       "        text-align: right;\n",
       "    }\n",
       "</style>\n",
       "<table border=\"1\" class=\"dataframe\">\n",
       "  <thead>\n",
       "    <tr style=\"text-align: right;\">\n",
       "      <th></th>\n",
       "      <th>,studyid,disease_en,sct_term,subdiscipline</th>\n",
       "    </tr>\n",
       "  </thead>\n",
       "  <tbody>\n",
       "    <tr>\n",
       "      <th>0</th>\n",
       "      <td>0,KK-SCIVIAS-00003,Chronic ulcerative colitis,...</td>\n",
       "    </tr>\n",
       "    <tr>\n",
       "      <th>1</th>\n",
       "      <td>1,KK-SCIVIAS-00004,Crohn's disease,34000006 | ...</td>\n",
       "    </tr>\n",
       "    <tr>\n",
       "      <th>2</th>\n",
       "      <td>2,KK-SCIVIAS-00005,Crohn's disease,34000006 | ...</td>\n",
       "    </tr>\n",
       "    <tr>\n",
       "      <th>3</th>\n",
       "      <td>3,KK-SCIVIAS-00006,Conjunctivitis,9826008 | Co...</td>\n",
       "    </tr>\n",
       "    <tr>\n",
       "      <th>4</th>\n",
       "      <td>4,KK-SCIVIAS-00006,PFAPA syndrome,717231003 | ...</td>\n",
       "    </tr>\n",
       "  </tbody>\n",
       "</table>\n",
       "</div>"
      ],
      "text/plain": [
       "          ,studyid,disease_en,sct_term,subdiscipline\n",
       "0  0,KK-SCIVIAS-00003,Chronic ulcerative colitis,...\n",
       "1  1,KK-SCIVIAS-00004,Crohn's disease,34000006 | ...\n",
       "2  2,KK-SCIVIAS-00005,Crohn's disease,34000006 | ...\n",
       "3  3,KK-SCIVIAS-00006,Conjunctivitis,9826008 | Co...\n",
       "4  4,KK-SCIVIAS-00006,PFAPA syndrome,717231003 | ..."
      ]
     },
     "execution_count": 111,
     "metadata": {},
     "output_type": "execute_result"
    }
   ],
   "source": [
    "labels = pd.read_excel('~/data/scivias_original_labels.xlsx')\n",
    "labels.head()"
   ]
  },
  {
   "cell_type": "code",
   "execution_count": 112,
   "id": "7e54843d-a689-440a-a292-2140d4d2ec3d",
   "metadata": {
    "tags": []
   },
   "outputs": [
    {
     "data": {
      "text/plain": [
       "['', 'studyid', 'disease_en', 'sct_term', 'subdiscipline']"
      ]
     },
     "execution_count": 112,
     "metadata": {},
     "output_type": "execute_result"
    }
   ],
   "source": [
    "cols = labels.columns.values[0].split(',')\n",
    "cols"
   ]
  },
  {
   "cell_type": "code",
   "execution_count": 117,
   "id": "af0a4a72-e8be-4cd3-9088-2edacd95158e",
   "metadata": {
    "tags": []
   },
   "outputs": [],
   "source": [
    "def split_row(row):\n",
    "    data_arr = row.values[0].split(',')\n",
    "    res = [data_arr[1]]\n",
    "    \n",
    "    dis_term = ','.join(data_arr[2:-1])\n",
    "    try:\n",
    "        sct_term = ast.literal_eval(dis_term)[1]\n",
    "    except:\n",
    "        sct_term = ','.join(dis_term.split(',')[1:])\n",
    "    sct_term = sct_term.replace('(disorder)', '')\n",
    "    sct_term = sct_term.split('|')[1].strip()\n",
    "    \n",
    "    res += [sct_term, data_arr[-1]]\n",
    "    \n",
    "    return res\n"
   ]
  },
  {
   "cell_type": "code",
   "execution_count": 118,
   "id": "9b12b86a-389a-4597-9437-d3951dd0f399",
   "metadata": {
    "tags": []
   },
   "outputs": [
    {
     "data": {
      "text/plain": [
       "'32,KK-SCIVIAS-00033,\"Juvenile idiopathic arthritis, oligoarthritis\",\"410798004 | Juvenile idiopathic arthritis, oligoarthritis (disorder) |\",immunology/rheumatology'"
      ]
     },
     "execution_count": 118,
     "metadata": {},
     "output_type": "execute_result"
    }
   ],
   "source": [
    "labels.iloc[32].values[0]"
   ]
  },
  {
   "cell_type": "code",
   "execution_count": 119,
   "id": "d4d7f737-c483-40da-b86a-e51b26ed242d",
   "metadata": {
    "tags": []
   },
   "outputs": [
    {
     "data": {
      "text/plain": [
       "['KK-SCIVIAS-00033',\n",
       " 'Juvenile idiopathic arthritis, oligoarthritis',\n",
       " 'immunology/rheumatology']"
      ]
     },
     "execution_count": 119,
     "metadata": {},
     "output_type": "execute_result"
    }
   ],
   "source": [
    "split_row(labels.iloc[32])"
   ]
  },
  {
   "cell_type": "code",
   "execution_count": 120,
   "id": "85cd11fb-10d2-44f4-84ae-901827cb47c1",
   "metadata": {
    "tags": []
   },
   "outputs": [],
   "source": [
    "data = []\n",
    "for index, row in labels.iterrows():\n",
    "    try:\n",
    "        data_arr = split_row(row)\n",
    "    except:\n",
    "        print('error', row.values[0])\n",
    "    if len(data_arr) !=3:\n",
    "        print(data_arr)\n",
    "    data.append(data_arr)"
   ]
  },
  {
   "cell_type": "code",
   "execution_count": 121,
   "id": "601a95cd-7184-4567-9c2f-b3b0af9dd53e",
   "metadata": {
    "tags": []
   },
   "outputs": [
    {
     "data": {
      "text/html": [
       "<div>\n",
       "<style scoped>\n",
       "    .dataframe tbody tr th:only-of-type {\n",
       "        vertical-align: middle;\n",
       "    }\n",
       "\n",
       "    .dataframe tbody tr th {\n",
       "        vertical-align: top;\n",
       "    }\n",
       "\n",
       "    .dataframe thead th {\n",
       "        text-align: right;\n",
       "    }\n",
       "</style>\n",
       "<table border=\"1\" class=\"dataframe\">\n",
       "  <thead>\n",
       "    <tr style=\"text-align: right;\">\n",
       "      <th></th>\n",
       "      <th>studyid</th>\n",
       "      <th>disease_en</th>\n",
       "      <th>subdiscipline</th>\n",
       "    </tr>\n",
       "  </thead>\n",
       "  <tbody>\n",
       "    <tr>\n",
       "      <th>0</th>\n",
       "      <td>KK-SCIVIAS-00003</td>\n",
       "      <td>Chronic ulcerative colitis</td>\n",
       "      <td>gastroenterology</td>\n",
       "    </tr>\n",
       "    <tr>\n",
       "      <th>1</th>\n",
       "      <td>KK-SCIVIAS-00004</td>\n",
       "      <td>Crohn's disease</td>\n",
       "      <td>gastroenterology</td>\n",
       "    </tr>\n",
       "    <tr>\n",
       "      <th>2</th>\n",
       "      <td>KK-SCIVIAS-00005</td>\n",
       "      <td>Crohn's disease</td>\n",
       "      <td>gastroenterology</td>\n",
       "    </tr>\n",
       "    <tr>\n",
       "      <th>3</th>\n",
       "      <td>KK-SCIVIAS-00006</td>\n",
       "      <td>Conjunctivitis</td>\n",
       "      <td>immunology/rheumatology</td>\n",
       "    </tr>\n",
       "    <tr>\n",
       "      <th>4</th>\n",
       "      <td>KK-SCIVIAS-00006</td>\n",
       "      <td>Periodic fever and aphthous stomatitis with ph...</td>\n",
       "      <td>immunology/rheumatology</td>\n",
       "    </tr>\n",
       "  </tbody>\n",
       "</table>\n",
       "</div>"
      ],
      "text/plain": [
       "            studyid                                         disease_en  \\\n",
       "0  KK-SCIVIAS-00003                         Chronic ulcerative colitis   \n",
       "1  KK-SCIVIAS-00004                                    Crohn's disease   \n",
       "2  KK-SCIVIAS-00005                                    Crohn's disease   \n",
       "3  KK-SCIVIAS-00006                                     Conjunctivitis   \n",
       "4  KK-SCIVIAS-00006  Periodic fever and aphthous stomatitis with ph...   \n",
       "\n",
       "             subdiscipline  \n",
       "0         gastroenterology  \n",
       "1         gastroenterology  \n",
       "2         gastroenterology  \n",
       "3  immunology/rheumatology  \n",
       "4  immunology/rheumatology  "
      ]
     },
     "execution_count": 121,
     "metadata": {},
     "output_type": "execute_result"
    }
   ],
   "source": [
    "cols = ['studyid', 'disease_en','subdiscipline']\n",
    "labels = pd.DataFrame(data=data, columns = cols)\n",
    "labels.head()"
   ]
  },
  {
   "cell_type": "code",
   "execution_count": 122,
   "id": "1dcc26a8-0b84-4bc1-8f90-5db2736bb2bb",
   "metadata": {
    "tags": []
   },
   "outputs": [
    {
     "data": {
      "text/plain": [
       "Well child (finding)                                              387\n",
       "Celiac disease                                                    119\n",
       "Cystic fibrosis                                                   113\n",
       "Crohn's disease                                                    50\n",
       "Diabetes mellitus type 1                                           46\n",
       "                                                                 ... \n",
       "XXXY syndrome                                                       1\n",
       "Congenital hypoplasia of left kidney                                1\n",
       "Middle cerebral artery syndrome                                     1\n",
       "Roifman syndrome                                                    1\n",
       "Mixed obstructive and restrictive ventilatory defect (finding)      1\n",
       "Name: disease_en, Length: 684, dtype: int64"
      ]
     },
     "execution_count": 122,
     "metadata": {},
     "output_type": "execute_result"
    }
   ],
   "source": [
    "labels.disease_en.value_counts()"
   ]
  },
  {
   "cell_type": "code",
   "execution_count": 127,
   "id": "49320f81-6820-4004-bfe2-f24be22142e0",
   "metadata": {
    "tags": []
   },
   "outputs": [
    {
     "name": "stdout",
     "output_type": "stream",
     "text": [
      "\u001b[0m\u001b[01;34mIDRiD_data\u001b[0m/  \u001b[01;34mSCIAVIAS\u001b[0m/        scivias_original_labels.xlsx\n",
      "\u001b[01;34mOCTID\u001b[0m/       oct_weights.pth  sct_labels.csv\n"
     ]
    }
   ],
   "source": [
    "ls ~/data"
   ]
  },
  {
   "cell_type": "code",
   "execution_count": 128,
   "id": "a5c1ca6a-edca-4ee5-be7d-3e7743e04784",
   "metadata": {
    "tags": []
   },
   "outputs": [],
   "source": [
    "labels.to_csv('~/data/sct_labels.csv')"
   ]
  },
  {
   "cell_type": "markdown",
   "id": "46172f49-46dd-4e86-8dcf-79eababddf8c",
   "metadata": {},
   "source": [
    "# load labels"
   ]
  },
  {
   "cell_type": "code",
   "execution_count": 4,
   "id": "e47b938e-39b5-4122-a5be-c1de28a43b4a",
   "metadata": {
    "tags": []
   },
   "outputs": [
    {
     "data": {
      "text/html": [
       "<div>\n",
       "<style scoped>\n",
       "    .dataframe tbody tr th:only-of-type {\n",
       "        vertical-align: middle;\n",
       "    }\n",
       "\n",
       "    .dataframe tbody tr th {\n",
       "        vertical-align: top;\n",
       "    }\n",
       "\n",
       "    .dataframe thead th {\n",
       "        text-align: right;\n",
       "    }\n",
       "</style>\n",
       "<table border=\"1\" class=\"dataframe\">\n",
       "  <thead>\n",
       "    <tr style=\"text-align: right;\">\n",
       "      <th></th>\n",
       "      <th>studyid</th>\n",
       "      <th>disease_en</th>\n",
       "      <th>subdiscipline</th>\n",
       "    </tr>\n",
       "  </thead>\n",
       "  <tbody>\n",
       "    <tr>\n",
       "      <th>0</th>\n",
       "      <td>KK-SCIVIAS-00003</td>\n",
       "      <td>Chronic ulcerative colitis</td>\n",
       "      <td>gastroenterology</td>\n",
       "    </tr>\n",
       "    <tr>\n",
       "      <th>1</th>\n",
       "      <td>KK-SCIVIAS-00004</td>\n",
       "      <td>Crohn's disease</td>\n",
       "      <td>gastroenterology</td>\n",
       "    </tr>\n",
       "    <tr>\n",
       "      <th>2</th>\n",
       "      <td>KK-SCIVIAS-00005</td>\n",
       "      <td>Crohn's disease</td>\n",
       "      <td>gastroenterology</td>\n",
       "    </tr>\n",
       "    <tr>\n",
       "      <th>3</th>\n",
       "      <td>KK-SCIVIAS-00006</td>\n",
       "      <td>Conjunctivitis</td>\n",
       "      <td>immunology/rheumatology</td>\n",
       "    </tr>\n",
       "    <tr>\n",
       "      <th>4</th>\n",
       "      <td>KK-SCIVIAS-00006</td>\n",
       "      <td>Periodic fever and aphthous stomatitis with ph...</td>\n",
       "      <td>immunology/rheumatology</td>\n",
       "    </tr>\n",
       "  </tbody>\n",
       "</table>\n",
       "</div>"
      ],
      "text/plain": [
       "            studyid                                         disease_en  \\\n",
       "0  KK-SCIVIAS-00003                         Chronic ulcerative colitis   \n",
       "1  KK-SCIVIAS-00004                                    Crohn's disease   \n",
       "2  KK-SCIVIAS-00005                                    Crohn's disease   \n",
       "3  KK-SCIVIAS-00006                                     Conjunctivitis   \n",
       "4  KK-SCIVIAS-00006  Periodic fever and aphthous stomatitis with ph...   \n",
       "\n",
       "             subdiscipline  \n",
       "0         gastroenterology  \n",
       "1         gastroenterology  \n",
       "2         gastroenterology  \n",
       "3  immunology/rheumatology  \n",
       "4  immunology/rheumatology  "
      ]
     },
     "execution_count": 4,
     "metadata": {},
     "output_type": "execute_result"
    }
   ],
   "source": [
    "labels = pd.read_csv('~/data/sct_labels.csv', index_col=0)\n",
    "labels.head()"
   ]
  },
  {
   "cell_type": "markdown",
   "id": "53f0361c-07f9-41bd-b94e-466a97702bb0",
   "metadata": {
    "tags": []
   },
   "source": [
    "# load meta"
   ]
  },
  {
   "cell_type": "code",
   "execution_count": 35,
   "id": "cb364d31-c289-485e-9906-2180e768be24",
   "metadata": {
    "tags": []
   },
   "outputs": [
    {
     "data": {
      "text/html": [
       "<div>\n",
       "<style scoped>\n",
       "    .dataframe tbody tr th:only-of-type {\n",
       "        vertical-align: middle;\n",
       "    }\n",
       "\n",
       "    .dataframe tbody tr th {\n",
       "        vertical-align: top;\n",
       "    }\n",
       "\n",
       "    .dataframe thead th {\n",
       "        text-align: right;\n",
       "    }\n",
       "</style>\n",
       "<table border=\"1\" class=\"dataframe\">\n",
       "  <thead>\n",
       "    <tr style=\"text-align: right;\">\n",
       "      <th></th>\n",
       "      <th>Filename</th>\n",
       "      <th>PatientID</th>\n",
       "      <th>SOPClassUID</th>\n",
       "      <th>Modality</th>\n",
       "      <th>Laterality</th>\n",
       "    </tr>\n",
       "  </thead>\n",
       "  <tbody>\n",
       "    <tr>\n",
       "      <th>1</th>\n",
       "      <td>1.2.276.0.75.2.2.42.50126425987.20231129154423...</td>\n",
       "      <td>KK-SCIVIAS-03474</td>\n",
       "      <td>1.2.840.10008.5.1.4.1.1.77.1.5.4</td>\n",
       "      <td>OPT</td>\n",
       "      <td>L</td>\n",
       "    </tr>\n",
       "    <tr>\n",
       "      <th>16</th>\n",
       "      <td>1.2.276.0.75.2.2.42.50126425987.20220412143853...</td>\n",
       "      <td>KK-SCIVIAS-01172</td>\n",
       "      <td>1.2.840.10008.5.1.4.1.1.77.1.5.4</td>\n",
       "      <td>OPT</td>\n",
       "      <td>L</td>\n",
       "    </tr>\n",
       "    <tr>\n",
       "      <th>21</th>\n",
       "      <td>1.2.276.0.75.2.2.42.50126425987.20220224114749...</td>\n",
       "      <td>KK-SCIVIAS-01048</td>\n",
       "      <td>1.2.840.10008.5.1.4.1.1.77.1.5.4</td>\n",
       "      <td>OPT</td>\n",
       "      <td>L</td>\n",
       "    </tr>\n",
       "    <tr>\n",
       "      <th>29</th>\n",
       "      <td>1.2.276.0.75.2.2.42.50126425987.20220517150138...</td>\n",
       "      <td>KK-SCIVIAS-01354</td>\n",
       "      <td>1.2.840.10008.5.1.4.1.1.77.1.5.4</td>\n",
       "      <td>OPT</td>\n",
       "      <td>R</td>\n",
       "    </tr>\n",
       "    <tr>\n",
       "      <th>42</th>\n",
       "      <td>1.2.276.0.75.2.2.42.50126425987.20240730100425...</td>\n",
       "      <td>KK-SCIVIAS-08103</td>\n",
       "      <td>1.2.840.10008.5.1.4.1.1.77.1.5.4</td>\n",
       "      <td>OPT</td>\n",
       "      <td>L</td>\n",
       "    </tr>\n",
       "  </tbody>\n",
       "</table>\n",
       "</div>"
      ],
      "text/plain": [
       "                                             Filename         PatientID  \\\n",
       "1   1.2.276.0.75.2.2.42.50126425987.20231129154423...  KK-SCIVIAS-03474   \n",
       "16  1.2.276.0.75.2.2.42.50126425987.20220412143853...  KK-SCIVIAS-01172   \n",
       "21  1.2.276.0.75.2.2.42.50126425987.20220224114749...  KK-SCIVIAS-01048   \n",
       "29  1.2.276.0.75.2.2.42.50126425987.20220517150138...  KK-SCIVIAS-01354   \n",
       "42  1.2.276.0.75.2.2.42.50126425987.20240730100425...  KK-SCIVIAS-08103   \n",
       "\n",
       "                         SOPClassUID Modality Laterality  \n",
       "1   1.2.840.10008.5.1.4.1.1.77.1.5.4      OPT          L  \n",
       "16  1.2.840.10008.5.1.4.1.1.77.1.5.4      OPT          L  \n",
       "21  1.2.840.10008.5.1.4.1.1.77.1.5.4      OPT          L  \n",
       "29  1.2.840.10008.5.1.4.1.1.77.1.5.4      OPT          R  \n",
       "42  1.2.840.10008.5.1.4.1.1.77.1.5.4      OPT          L  "
      ]
     },
     "execution_count": 35,
     "metadata": {},
     "output_type": "execute_result"
    }
   ],
   "source": [
    "meta = pd.read_csv('~/codes/data_exploration/files/opt.csv', index_col=0)\n",
    "meta.head()"
   ]
  },
  {
   "cell_type": "code",
   "execution_count": 36,
   "id": "bfefd3b6-7c3e-4a17-89db-e973eb4d511f",
   "metadata": {
    "tags": []
   },
   "outputs": [
    {
     "data": {
      "text/plain": [
       "4576"
      ]
     },
     "execution_count": 36,
     "metadata": {},
     "output_type": "execute_result"
    }
   ],
   "source": [
    "len(meta)"
   ]
  },
  {
   "cell_type": "code",
   "execution_count": 37,
   "id": "984fba71-79d0-4018-82e7-cc5bfa64d96c",
   "metadata": {
    "tags": []
   },
   "outputs": [
    {
     "data": {
      "text/html": [
       "<div>\n",
       "<style scoped>\n",
       "    .dataframe tbody tr th:only-of-type {\n",
       "        vertical-align: middle;\n",
       "    }\n",
       "\n",
       "    .dataframe tbody tr th {\n",
       "        vertical-align: top;\n",
       "    }\n",
       "\n",
       "    .dataframe thead th {\n",
       "        text-align: right;\n",
       "    }\n",
       "</style>\n",
       "<table border=\"1\" class=\"dataframe\">\n",
       "  <thead>\n",
       "    <tr style=\"text-align: right;\">\n",
       "      <th></th>\n",
       "      <th>Filename</th>\n",
       "      <th>studyid</th>\n",
       "      <th>SOPClassUID</th>\n",
       "      <th>Modality</th>\n",
       "      <th>Laterality</th>\n",
       "    </tr>\n",
       "  </thead>\n",
       "  <tbody>\n",
       "    <tr>\n",
       "      <th>1</th>\n",
       "      <td>1.2.276.0.75.2.2.42.50126425987.20231129154423...</td>\n",
       "      <td>KK-SCIVIAS-03474</td>\n",
       "      <td>1.2.840.10008.5.1.4.1.1.77.1.5.4</td>\n",
       "      <td>OPT</td>\n",
       "      <td>L</td>\n",
       "    </tr>\n",
       "    <tr>\n",
       "      <th>16</th>\n",
       "      <td>1.2.276.0.75.2.2.42.50126425987.20220412143853...</td>\n",
       "      <td>KK-SCIVIAS-01172</td>\n",
       "      <td>1.2.840.10008.5.1.4.1.1.77.1.5.4</td>\n",
       "      <td>OPT</td>\n",
       "      <td>L</td>\n",
       "    </tr>\n",
       "    <tr>\n",
       "      <th>21</th>\n",
       "      <td>1.2.276.0.75.2.2.42.50126425987.20220224114749...</td>\n",
       "      <td>KK-SCIVIAS-01048</td>\n",
       "      <td>1.2.840.10008.5.1.4.1.1.77.1.5.4</td>\n",
       "      <td>OPT</td>\n",
       "      <td>L</td>\n",
       "    </tr>\n",
       "    <tr>\n",
       "      <th>29</th>\n",
       "      <td>1.2.276.0.75.2.2.42.50126425987.20220517150138...</td>\n",
       "      <td>KK-SCIVIAS-01354</td>\n",
       "      <td>1.2.840.10008.5.1.4.1.1.77.1.5.4</td>\n",
       "      <td>OPT</td>\n",
       "      <td>R</td>\n",
       "    </tr>\n",
       "    <tr>\n",
       "      <th>42</th>\n",
       "      <td>1.2.276.0.75.2.2.42.50126425987.20240730100425...</td>\n",
       "      <td>KK-SCIVIAS-08103</td>\n",
       "      <td>1.2.840.10008.5.1.4.1.1.77.1.5.4</td>\n",
       "      <td>OPT</td>\n",
       "      <td>L</td>\n",
       "    </tr>\n",
       "  </tbody>\n",
       "</table>\n",
       "</div>"
      ],
      "text/plain": [
       "                                             Filename           studyid  \\\n",
       "1   1.2.276.0.75.2.2.42.50126425987.20231129154423...  KK-SCIVIAS-03474   \n",
       "16  1.2.276.0.75.2.2.42.50126425987.20220412143853...  KK-SCIVIAS-01172   \n",
       "21  1.2.276.0.75.2.2.42.50126425987.20220224114749...  KK-SCIVIAS-01048   \n",
       "29  1.2.276.0.75.2.2.42.50126425987.20220517150138...  KK-SCIVIAS-01354   \n",
       "42  1.2.276.0.75.2.2.42.50126425987.20240730100425...  KK-SCIVIAS-08103   \n",
       "\n",
       "                         SOPClassUID Modality Laterality  \n",
       "1   1.2.840.10008.5.1.4.1.1.77.1.5.4      OPT          L  \n",
       "16  1.2.840.10008.5.1.4.1.1.77.1.5.4      OPT          L  \n",
       "21  1.2.840.10008.5.1.4.1.1.77.1.5.4      OPT          L  \n",
       "29  1.2.840.10008.5.1.4.1.1.77.1.5.4      OPT          R  \n",
       "42  1.2.840.10008.5.1.4.1.1.77.1.5.4      OPT          L  "
      ]
     },
     "execution_count": 37,
     "metadata": {},
     "output_type": "execute_result"
    }
   ],
   "source": [
    "# meta['studyid'] = meta['PatientName'].str.split('^').str[0]\n",
    "# meta.head()\n",
    "\n",
    "meta = meta.rename(columns = {'PatientID': 'studyid'})\n",
    "meta.head()"
   ]
  },
  {
   "cell_type": "code",
   "execution_count": 38,
   "id": "74fe5d50-a5da-4255-bf6d-53204d29aba8",
   "metadata": {
    "tags": []
   },
   "outputs": [
    {
     "data": {
      "text/html": [
       "<div>\n",
       "<style scoped>\n",
       "    .dataframe tbody tr th:only-of-type {\n",
       "        vertical-align: middle;\n",
       "    }\n",
       "\n",
       "    .dataframe tbody tr th {\n",
       "        vertical-align: top;\n",
       "    }\n",
       "\n",
       "    .dataframe thead th {\n",
       "        text-align: right;\n",
       "    }\n",
       "</style>\n",
       "<table border=\"1\" class=\"dataframe\">\n",
       "  <thead>\n",
       "    <tr style=\"text-align: right;\">\n",
       "      <th></th>\n",
       "      <th>studyid</th>\n",
       "      <th>disease_en</th>\n",
       "      <th>subdiscipline</th>\n",
       "      <th>Filename</th>\n",
       "      <th>SOPClassUID</th>\n",
       "      <th>Modality</th>\n",
       "      <th>Laterality</th>\n",
       "    </tr>\n",
       "  </thead>\n",
       "  <tbody>\n",
       "    <tr>\n",
       "      <th>0</th>\n",
       "      <td>KK-SCIVIAS-00004</td>\n",
       "      <td>Crohn's disease</td>\n",
       "      <td>gastroenterology</td>\n",
       "      <td>1.2.276.0.75.2.2.42.50126425987.20210118121227...</td>\n",
       "      <td>1.2.840.10008.5.1.4.1.1.77.1.5.4</td>\n",
       "      <td>OPT</td>\n",
       "      <td>R</td>\n",
       "    </tr>\n",
       "    <tr>\n",
       "      <th>1</th>\n",
       "      <td>KK-SCIVIAS-00004</td>\n",
       "      <td>Crohn's disease</td>\n",
       "      <td>gastroenterology</td>\n",
       "      <td>1.2.276.0.75.2.2.42.50126425987.20210118121511...</td>\n",
       "      <td>1.2.840.10008.5.1.4.1.1.77.1.5.4</td>\n",
       "      <td>OPT</td>\n",
       "      <td>L</td>\n",
       "    </tr>\n",
       "    <tr>\n",
       "      <th>2</th>\n",
       "      <td>KK-SCIVIAS-00005</td>\n",
       "      <td>Crohn's disease</td>\n",
       "      <td>gastroenterology</td>\n",
       "      <td>1.2.276.0.75.2.2.42.50126425987.20210122124555...</td>\n",
       "      <td>1.2.840.10008.5.1.4.1.1.77.1.5.4</td>\n",
       "      <td>OPT</td>\n",
       "      <td>R</td>\n",
       "    </tr>\n",
       "    <tr>\n",
       "      <th>3</th>\n",
       "      <td>KK-SCIVIAS-00005</td>\n",
       "      <td>Crohn's disease</td>\n",
       "      <td>gastroenterology</td>\n",
       "      <td>1.2.276.0.75.2.2.42.50126425987.20210122124939...</td>\n",
       "      <td>1.2.840.10008.5.1.4.1.1.77.1.5.4</td>\n",
       "      <td>OPT</td>\n",
       "      <td>L</td>\n",
       "    </tr>\n",
       "    <tr>\n",
       "      <th>4</th>\n",
       "      <td>KK-SCIVIAS-00006</td>\n",
       "      <td>Conjunctivitis</td>\n",
       "      <td>immunology/rheumatology</td>\n",
       "      <td>1.2.276.0.75.2.2.42.50126425987.20210128123911...</td>\n",
       "      <td>1.2.840.10008.5.1.4.1.1.77.1.5.4</td>\n",
       "      <td>OPT</td>\n",
       "      <td>R</td>\n",
       "    </tr>\n",
       "  </tbody>\n",
       "</table>\n",
       "</div>"
      ],
      "text/plain": [
       "            studyid       disease_en            subdiscipline  \\\n",
       "0  KK-SCIVIAS-00004  Crohn's disease         gastroenterology   \n",
       "1  KK-SCIVIAS-00004  Crohn's disease         gastroenterology   \n",
       "2  KK-SCIVIAS-00005  Crohn's disease         gastroenterology   \n",
       "3  KK-SCIVIAS-00005  Crohn's disease         gastroenterology   \n",
       "4  KK-SCIVIAS-00006   Conjunctivitis  immunology/rheumatology   \n",
       "\n",
       "                                            Filename  \\\n",
       "0  1.2.276.0.75.2.2.42.50126425987.20210118121227...   \n",
       "1  1.2.276.0.75.2.2.42.50126425987.20210118121511...   \n",
       "2  1.2.276.0.75.2.2.42.50126425987.20210122124555...   \n",
       "3  1.2.276.0.75.2.2.42.50126425987.20210122124939...   \n",
       "4  1.2.276.0.75.2.2.42.50126425987.20210128123911...   \n",
       "\n",
       "                        SOPClassUID Modality Laterality  \n",
       "0  1.2.840.10008.5.1.4.1.1.77.1.5.4      OPT          R  \n",
       "1  1.2.840.10008.5.1.4.1.1.77.1.5.4      OPT          L  \n",
       "2  1.2.840.10008.5.1.4.1.1.77.1.5.4      OPT          R  \n",
       "3  1.2.840.10008.5.1.4.1.1.77.1.5.4      OPT          L  \n",
       "4  1.2.840.10008.5.1.4.1.1.77.1.5.4      OPT          R  "
      ]
     },
     "execution_count": 38,
     "metadata": {},
     "output_type": "execute_result"
    }
   ],
   "source": [
    "joined = pd.merge(labels, meta, on='studyid', how='inner')\n",
    "joined.head()"
   ]
  },
  {
   "cell_type": "code",
   "execution_count": 39,
   "id": "e4dbfe2a-992e-4ffc-9be1-18899d25d6d9",
   "metadata": {
    "tags": []
   },
   "outputs": [
    {
     "data": {
      "text/plain": [
       "(4527, 4576, 2797, 4115)"
      ]
     },
     "execution_count": 39,
     "metadata": {},
     "output_type": "execute_result"
    }
   ],
   "source": [
    "len(joined), len(meta), len(labels), joined.Filename.nunique()"
   ]
  },
  {
   "cell_type": "code",
   "execution_count": 40,
   "id": "24083e7b-10a1-4d00-96e9-238211182eec",
   "metadata": {
    "tags": []
   },
   "outputs": [
    {
     "data": {
      "text/plain": [
       "4115"
      ]
     },
     "execution_count": 40,
     "metadata": {},
     "output_type": "execute_result"
    }
   ],
   "source": [
    "joined = joined.drop_duplicates(subset='Filename', keep='first')\n",
    "len(joined)"
   ]
  },
  {
   "cell_type": "markdown",
   "id": "bffd2347-8347-44c9-bc63-b4f52a56e7db",
   "metadata": {
    "jp-MarkdownHeadingCollapsed": true,
    "tags": []
   },
   "source": [
    "# evaluate labels"
   ]
  },
  {
   "cell_type": "code",
   "execution_count": 138,
   "id": "467614c0-c510-46c8-86a4-5ebc69ced5b2",
   "metadata": {
    "tags": []
   },
   "outputs": [
    {
     "data": {
      "text/plain": [
       "(2797, 2482)"
      ]
     },
     "execution_count": 138,
     "metadata": {},
     "output_type": "execute_result"
    }
   ],
   "source": [
    "len(labels), labels.studyid.nunique()"
   ]
  },
  {
   "cell_type": "code",
   "execution_count": 139,
   "id": "0489cb40-62c4-49a5-9d98-940abd681742",
   "metadata": {
    "tags": []
   },
   "outputs": [
    {
     "data": {
      "text/html": [
       "<div>\n",
       "<style scoped>\n",
       "    .dataframe tbody tr th:only-of-type {\n",
       "        vertical-align: middle;\n",
       "    }\n",
       "\n",
       "    .dataframe tbody tr th {\n",
       "        vertical-align: top;\n",
       "    }\n",
       "\n",
       "    .dataframe thead th {\n",
       "        text-align: right;\n",
       "    }\n",
       "</style>\n",
       "<table border=\"1\" class=\"dataframe\">\n",
       "  <thead>\n",
       "    <tr style=\"text-align: right;\">\n",
       "      <th></th>\n",
       "      <th>studyid</th>\n",
       "      <th>disease_en</th>\n",
       "    </tr>\n",
       "  </thead>\n",
       "  <tbody>\n",
       "    <tr>\n",
       "      <th>0</th>\n",
       "      <td>KK-SCIVIAS-00006</td>\n",
       "      <td>[Conjunctivitis, Periodic fever and aphthous s...</td>\n",
       "    </tr>\n",
       "    <tr>\n",
       "      <th>1</th>\n",
       "      <td>KK-SCIVIAS-00007</td>\n",
       "      <td>[Chronic nonbacterial osteomyelitis/chronic re...</td>\n",
       "    </tr>\n",
       "    <tr>\n",
       "      <th>2</th>\n",
       "      <td>KK-SCIVIAS-00008</td>\n",
       "      <td>[Chronic nonbacterial osteomyelitis/chronic re...</td>\n",
       "    </tr>\n",
       "    <tr>\n",
       "      <th>3</th>\n",
       "      <td>KK-SCIVIAS-00012</td>\n",
       "      <td>[Punctate keratitis, Recurrent aphthous stomat...</td>\n",
       "    </tr>\n",
       "    <tr>\n",
       "      <th>4</th>\n",
       "      <td>KK-SCIVIAS-00014</td>\n",
       "      <td>[Fasciitis, Panniculitis]</td>\n",
       "    </tr>\n",
       "    <tr>\n",
       "      <th>...</th>\n",
       "      <td>...</td>\n",
       "      <td>...</td>\n",
       "    </tr>\n",
       "    <tr>\n",
       "      <th>229</th>\n",
       "      <td>KK-SCIVIAS-03632</td>\n",
       "      <td>[Acute glomerulonephritis due to and following...</td>\n",
       "    </tr>\n",
       "    <tr>\n",
       "      <th>230</th>\n",
       "      <td>KK-SCIVIAS-03634</td>\n",
       "      <td>[Arthritis, Streptococcal infectious disease]</td>\n",
       "    </tr>\n",
       "    <tr>\n",
       "      <th>231</th>\n",
       "      <td>KK-SCIVIAS-03656</td>\n",
       "      <td>[Depressive disorder, Dissociative motor disor...</td>\n",
       "    </tr>\n",
       "    <tr>\n",
       "      <th>232</th>\n",
       "      <td>KK-SCIVIAS-03657</td>\n",
       "      <td>[Autosomal dominant intermediate Charcot-Marie...</td>\n",
       "    </tr>\n",
       "    <tr>\n",
       "      <th>233</th>\n",
       "      <td>KK-SCIVIAS-03679</td>\n",
       "      <td>[Cardiomyopathy, Duchenne muscular dystrophy]</td>\n",
       "    </tr>\n",
       "  </tbody>\n",
       "</table>\n",
       "<p>234 rows × 2 columns</p>\n",
       "</div>"
      ],
      "text/plain": [
       "              studyid                                         disease_en\n",
       "0    KK-SCIVIAS-00006  [Conjunctivitis, Periodic fever and aphthous s...\n",
       "1    KK-SCIVIAS-00007  [Chronic nonbacterial osteomyelitis/chronic re...\n",
       "2    KK-SCIVIAS-00008  [Chronic nonbacterial osteomyelitis/chronic re...\n",
       "3    KK-SCIVIAS-00012  [Punctate keratitis, Recurrent aphthous stomat...\n",
       "4    KK-SCIVIAS-00014                          [Fasciitis, Panniculitis]\n",
       "..                ...                                                ...\n",
       "229  KK-SCIVIAS-03632  [Acute glomerulonephritis due to and following...\n",
       "230  KK-SCIVIAS-03634      [Arthritis, Streptococcal infectious disease]\n",
       "231  KK-SCIVIAS-03656  [Depressive disorder, Dissociative motor disor...\n",
       "232  KK-SCIVIAS-03657  [Autosomal dominant intermediate Charcot-Marie...\n",
       "233  KK-SCIVIAS-03679      [Cardiomyopathy, Duchenne muscular dystrophy]\n",
       "\n",
       "[234 rows x 2 columns]"
      ]
     },
     "execution_count": 139,
     "metadata": {},
     "output_type": "execute_result"
    }
   ],
   "source": [
    "# Group by 'studyid' and aggregate values\n",
    "result = (\n",
    "    labels.groupby('studyid')\n",
    "    .filter(lambda x: len(x) > 1)  # Filter groups with more than 1 row\n",
    "    .groupby('studyid')\n",
    "    .agg({\n",
    "        'disease_en': list,  # Create a list of all values for 'value1'\n",
    "    })\n",
    "    .reset_index()  # Optional: Reset index for a clean DataFrame\n",
    ")\n",
    "result"
   ]
  },
  {
   "cell_type": "markdown",
   "id": "aaaa2639-ec80-4dc4-b0bf-acace8818251",
   "metadata": {
    "tags": []
   },
   "source": [
    "# split"
   ]
  },
  {
   "cell_type": "code",
   "execution_count": 41,
   "id": "bec1b63c-867a-400d-84fe-31643a7cd9f6",
   "metadata": {
    "tags": []
   },
   "outputs": [],
   "source": [
    "import os\n",
    "os.chdir('/data/core-kind/fatemeh/codes/data_exploration')"
   ]
  },
  {
   "cell_type": "code",
   "execution_count": 42,
   "id": "354760d5-44d0-4ac1-a9e3-97edd05f4811",
   "metadata": {
    "tags": []
   },
   "outputs": [],
   "source": [
    "import importlib\n",
    "import split\n",
    "importlib.reload(split)\n",
    "from split import *"
   ]
  },
  {
   "cell_type": "code",
   "execution_count": 43,
   "id": "aee50ca4-bfd1-44bc-8716-84f7e76ddfbc",
   "metadata": {
    "tags": []
   },
   "outputs": [],
   "source": [
    "df = joined\n",
    "stratify_col = 'disease_en'\n",
    "label_counts = df[stratify_col].value_counts()"
   ]
  },
  {
   "cell_type": "code",
   "execution_count": 44,
   "id": "47ee43fb-40c2-47b7-9ca1-bf75648adb89",
   "metadata": {
    "tags": []
   },
   "outputs": [],
   "source": [
    "valid_labels = label_counts[label_counts >= 30].index"
   ]
  },
  {
   "cell_type": "code",
   "execution_count": 45,
   "id": "1631e769-bcf9-45f4-8f58-f0b0cfd9e189",
   "metadata": {
    "tags": []
   },
   "outputs": [
    {
     "data": {
      "text/plain": [
       "Well child (finding)                                                                           564\n",
       "Cystic fibrosis                                                                                268\n",
       "Celiac disease                                                                                 196\n",
       "Crohn's disease                                                                                 85\n",
       "Adrenogenital disorder                                                                          79\n",
       "Diabetes mellitus type 1                                                                        78\n",
       "Chronic ulcerative colitis                                                                      63\n",
       "Hereditary factor VIII deficiency disease                                                       62\n",
       "Disorder of immune function                                                                     57\n",
       "Functional abdominal pain syndrome                                                              55\n",
       "Growth hormone deficiency                                                                       54\n",
       "Familial Mediterranean fever                                                                    48\n",
       "Asthma                                                                                          46\n",
       "Chronic post-COVID-19 syndrome                                                                  46\n",
       "Short stature disorder                                                                          43\n",
       "Factor VII deficiency                                                                           42\n",
       "Periodic fever and aphthous stomatitis with pharyngitis and cervical lymphadenitis syndrome     42\n",
       "Prader-Willi syndrome                                                                           35\n",
       "Juvenile idiopathic arthritis, oligoarthritis                                                   34\n",
       "Hereditary von Willebrand disease type 1                                                        31\n",
       "Name: disease_en, dtype: int64"
      ]
     },
     "execution_count": 45,
     "metadata": {},
     "output_type": "execute_result"
    }
   ],
   "source": [
    "df[df[stratify_col].isin(valid_labels)].disease_en.value_counts()"
   ]
  },
  {
   "cell_type": "code",
   "execution_count": 46,
   "id": "00792f60-2c76-4c03-afe3-86e6c8a6e332",
   "metadata": {
    "tags": []
   },
   "outputs": [
    {
     "name": "stdout",
     "output_type": "stream",
     "text": [
      "Index(['Well child (finding)', 'Cystic fibrosis', 'Celiac disease',\n",
      "       'Crohn's disease', 'Adrenogenital disorder', 'Diabetes mellitus type 1',\n",
      "       'Chronic ulcerative colitis',\n",
      "       'Hereditary factor VIII deficiency disease',\n",
      "       'Disorder of immune function', 'Functional abdominal pain syndrome',\n",
      "       'Growth hormone deficiency', 'Familial Mediterranean fever', 'Asthma',\n",
      "       'Chronic post-COVID-19 syndrome', 'Short stature disorder',\n",
      "       'Periodic fever and aphthous stomatitis with pharyngitis and cervical lymphadenitis syndrome',\n",
      "       'Factor VII deficiency', 'Prader-Willi syndrome',\n",
      "       'Juvenile idiopathic arthritis, oligoarthritis',\n",
      "       'Hereditary von Willebrand disease type 1'],\n",
      "      dtype='object')\n",
      "Filtered dataset has 1928 samples and 20 valid labels.\n",
      "Data saved successfully to /data/core-kind/fatemeh/data/opt/splits:\n",
      "- Train set: 1349 samples\n",
      "- Validation set: 289 samples\n",
      "- Test set: 290 samples\n"
     ]
    }
   ],
   "source": [
    "split_and_save_filtered(joined, 'disease_en', '/data/core-kind/fatemeh/data/opt/splits')"
   ]
  },
  {
   "cell_type": "code",
   "execution_count": 47,
   "id": "b627a850-3f75-4481-89ba-d03271702117",
   "metadata": {
    "tags": []
   },
   "outputs": [],
   "source": [
    "input_folder = '/data/core-kind/fatemeh/data/opt/splits'\n",
    "# Initialize a dictionary to hold counts for each split\n",
    "split_counts = {}\n",
    "\n",
    "# Loop through the CSV files in the folder\n",
    "for file_name in os.listdir(input_folder):\n",
    "    if file_name.endswith(\".csv\"):\n",
    "        split_name = file_name.replace(\".csv\", \"\")  # e.g., 'train', 'test', 'val'\n",
    "        file_path = os.path.join(input_folder, file_name)\n",
    "        \n",
    "        # Read the CSV file\n",
    "        data = pd.read_csv(file_path)\n",
    "        \n",
    "        # Assuming 'class' is the column containing class labels\n",
    "        counts = data['disease_en'].value_counts()\n",
    "        split_counts[split_name] = counts\n",
    "\n",
    "# Combine all splits into a DataFrame for plotting\n",
    "combined_counts = pd.DataFrame(split_counts).fillna(0).astype(int)\n"
   ]
  },
  {
   "cell_type": "code",
   "execution_count": 48,
   "id": "e3db97e8-5303-47d5-8de5-dd1f98df986a",
   "metadata": {
    "tags": []
   },
   "outputs": [
    {
     "data": {
      "text/html": [
       "<div>\n",
       "<style scoped>\n",
       "    .dataframe tbody tr th:only-of-type {\n",
       "        vertical-align: middle;\n",
       "    }\n",
       "\n",
       "    .dataframe tbody tr th {\n",
       "        vertical-align: top;\n",
       "    }\n",
       "\n",
       "    .dataframe thead th {\n",
       "        text-align: right;\n",
       "    }\n",
       "</style>\n",
       "<table border=\"1\" class=\"dataframe\">\n",
       "  <thead>\n",
       "    <tr style=\"text-align: right;\">\n",
       "      <th></th>\n",
       "      <th>train</th>\n",
       "      <th>val</th>\n",
       "      <th>test</th>\n",
       "    </tr>\n",
       "  </thead>\n",
       "  <tbody>\n",
       "    <tr>\n",
       "      <th>Adrenogenital disorder</th>\n",
       "      <td>55</td>\n",
       "      <td>12</td>\n",
       "      <td>12</td>\n",
       "    </tr>\n",
       "    <tr>\n",
       "      <th>Asthma</th>\n",
       "      <td>32</td>\n",
       "      <td>7</td>\n",
       "      <td>7</td>\n",
       "    </tr>\n",
       "    <tr>\n",
       "      <th>Celiac disease</th>\n",
       "      <td>137</td>\n",
       "      <td>29</td>\n",
       "      <td>30</td>\n",
       "    </tr>\n",
       "    <tr>\n",
       "      <th>Chronic post-COVID-19 syndrome</th>\n",
       "      <td>32</td>\n",
       "      <td>7</td>\n",
       "      <td>7</td>\n",
       "    </tr>\n",
       "    <tr>\n",
       "      <th>Chronic ulcerative colitis</th>\n",
       "      <td>44</td>\n",
       "      <td>9</td>\n",
       "      <td>10</td>\n",
       "    </tr>\n",
       "    <tr>\n",
       "      <th>Crohn's disease</th>\n",
       "      <td>59</td>\n",
       "      <td>13</td>\n",
       "      <td>13</td>\n",
       "    </tr>\n",
       "    <tr>\n",
       "      <th>Cystic fibrosis</th>\n",
       "      <td>188</td>\n",
       "      <td>40</td>\n",
       "      <td>40</td>\n",
       "    </tr>\n",
       "    <tr>\n",
       "      <th>Diabetes mellitus type 1</th>\n",
       "      <td>55</td>\n",
       "      <td>11</td>\n",
       "      <td>12</td>\n",
       "    </tr>\n",
       "    <tr>\n",
       "      <th>Disorder of immune function</th>\n",
       "      <td>40</td>\n",
       "      <td>8</td>\n",
       "      <td>9</td>\n",
       "    </tr>\n",
       "    <tr>\n",
       "      <th>Factor VII deficiency</th>\n",
       "      <td>29</td>\n",
       "      <td>7</td>\n",
       "      <td>6</td>\n",
       "    </tr>\n",
       "    <tr>\n",
       "      <th>Familial Mediterranean fever</th>\n",
       "      <td>34</td>\n",
       "      <td>7</td>\n",
       "      <td>7</td>\n",
       "    </tr>\n",
       "    <tr>\n",
       "      <th>Functional abdominal pain syndrome</th>\n",
       "      <td>38</td>\n",
       "      <td>9</td>\n",
       "      <td>8</td>\n",
       "    </tr>\n",
       "    <tr>\n",
       "      <th>Growth hormone deficiency</th>\n",
       "      <td>38</td>\n",
       "      <td>8</td>\n",
       "      <td>8</td>\n",
       "    </tr>\n",
       "    <tr>\n",
       "      <th>Hereditary factor VIII deficiency disease</th>\n",
       "      <td>43</td>\n",
       "      <td>9</td>\n",
       "      <td>10</td>\n",
       "    </tr>\n",
       "    <tr>\n",
       "      <th>Hereditary von Willebrand disease type 1</th>\n",
       "      <td>22</td>\n",
       "      <td>5</td>\n",
       "      <td>4</td>\n",
       "    </tr>\n",
       "    <tr>\n",
       "      <th>Juvenile idiopathic arthritis, oligoarthritis</th>\n",
       "      <td>24</td>\n",
       "      <td>5</td>\n",
       "      <td>5</td>\n",
       "    </tr>\n",
       "    <tr>\n",
       "      <th>Periodic fever and aphthous stomatitis with pharyngitis and cervical lymphadenitis syndrome</th>\n",
       "      <td>29</td>\n",
       "      <td>7</td>\n",
       "      <td>6</td>\n",
       "    </tr>\n",
       "    <tr>\n",
       "      <th>Prader-Willi syndrome</th>\n",
       "      <td>25</td>\n",
       "      <td>5</td>\n",
       "      <td>5</td>\n",
       "    </tr>\n",
       "    <tr>\n",
       "      <th>Short stature disorder</th>\n",
       "      <td>30</td>\n",
       "      <td>7</td>\n",
       "      <td>6</td>\n",
       "    </tr>\n",
       "    <tr>\n",
       "      <th>Well child (finding)</th>\n",
       "      <td>395</td>\n",
       "      <td>84</td>\n",
       "      <td>85</td>\n",
       "    </tr>\n",
       "  </tbody>\n",
       "</table>\n",
       "</div>"
      ],
      "text/plain": [
       "                                                    train  val  test\n",
       "Adrenogenital disorder                                 55   12    12\n",
       "Asthma                                                 32    7     7\n",
       "Celiac disease                                        137   29    30\n",
       "Chronic post-COVID-19 syndrome                         32    7     7\n",
       "Chronic ulcerative colitis                             44    9    10\n",
       "Crohn's disease                                        59   13    13\n",
       "Cystic fibrosis                                       188   40    40\n",
       "Diabetes mellitus type 1                               55   11    12\n",
       "Disorder of immune function                            40    8     9\n",
       "Factor VII deficiency                                  29    7     6\n",
       "Familial Mediterranean fever                           34    7     7\n",
       "Functional abdominal pain syndrome                     38    9     8\n",
       "Growth hormone deficiency                              38    8     8\n",
       "Hereditary factor VIII deficiency disease              43    9    10\n",
       "Hereditary von Willebrand disease type 1               22    5     4\n",
       "Juvenile idiopathic arthritis, oligoarthritis          24    5     5\n",
       "Periodic fever and aphthous stomatitis with pha...     29    7     6\n",
       "Prader-Willi syndrome                                  25    5     5\n",
       "Short stature disorder                                 30    7     6\n",
       "Well child (finding)                                  395   84    85"
      ]
     },
     "execution_count": 48,
     "metadata": {},
     "output_type": "execute_result"
    }
   ],
   "source": [
    "combined_counts"
   ]
  },
  {
   "cell_type": "code",
   "execution_count": 49,
   "id": "222288da-a7fc-4a3c-aade-ffb568ecdc0b",
   "metadata": {
    "tags": []
   },
   "outputs": [],
   "source": [
    "# Reshape the DataFrame for Seaborn\n",
    "combined_counts_reset = combined_counts.reset_index().melt(id_vars='index', var_name='Split', value_name='Count')\n",
    "combined_counts_reset.rename(columns={'index': 'Class'}, inplace=True)\n"
   ]
  },
  {
   "cell_type": "code",
   "execution_count": 50,
   "id": "d193d664-899c-4fae-aa4a-feb44362d2d2",
   "metadata": {
    "tags": []
   },
   "outputs": [],
   "source": [
    "import seaborn as sns\n",
    "import pandas as pd\n",
    "import matplotlib.pyplot as plt"
   ]
  },
  {
   "cell_type": "code",
   "execution_count": 51,
   "id": "60e67cd3-424a-4ae9-8b09-9125cda3e4fd",
   "metadata": {
    "tags": []
   },
   "outputs": [
    {
     "data": {
      "image/png": "[encoded data removed]",
      "text/plain": [
       "<Figure size 1200x800 with 1 Axes>"
      ]
     },
     "metadata": {},
     "output_type": "display_data"
    }
   ],
   "source": [
    "# Sort by 'train' count\n",
    "train_sorted = combined_counts['train'].sort_values(ascending=False).index\n",
    "combined_counts_reset['Class'] = pd.Categorical(combined_counts_reset['Class'], categories=train_sorted, ordered=True)\n",
    "\n",
    "# Plot using Seaborn\n",
    "plt.figure(figsize=(12, 8))\n",
    "ax = sns.barplot(data=combined_counts_reset, x='Class', y='Count', hue='Split', dodge=True)\n",
    "\n",
    "# Add the count on top of each bar\n",
    "for container in ax.containers:\n",
    "    ax.bar_label(container, fmt='%d', label_type='edge', fontsize=10)\n",
    "\n",
    "# Customize plot\n",
    "plt.title(\"Number of Samples for Each Class in Each Split (Sorted by Train Count)\", fontsize=14)\n",
    "plt.xlabel(\"Class\", fontsize=12)\n",
    "plt.ylabel(\"Number of Samples\", fontsize=12)\n",
    "plt.xticks(rotation=45, fontsize=10)\n",
    "plt.legend(title=\"Split\", fontsize=10)\n",
    "plt.tight_layout()\n",
    "\n",
    "# Show the plot\n",
    "plt.show()"
   ]
  },
  {
   "cell_type": "markdown",
   "id": "4eb02740-3458-4034-8167-103d2e29845e",
   "metadata": {
    "tags": []
   },
   "source": [
    "plot_class_distribution('./files/splits')"
   ]
  },
  {
   "cell_type": "code",
   "execution_count": 33,
   "id": "be143623-e7f5-4412-a610-ef08f72c18f3",
   "metadata": {
    "tags": []
   },
   "outputs": [
    {
     "data": {
      "text/plain": [
       "4115"
      ]
     },
     "execution_count": 33,
     "metadata": {},
     "output_type": "execute_result"
    }
   ],
   "source": [
    "joined.Filename.nunique()"
   ]
  },
  {
   "cell_type": "markdown",
   "id": "69c8fec3-c472-45a8-a634-6200d0f8df84",
   "metadata": {},
   "source": [
    "# organiza data"
   ]
  },
  {
   "cell_type": "code",
   "execution_count": 215,
   "id": "2b28dfb9-9516-480d-8d39-5e3dac956661",
   "metadata": {
    "tags": []
   },
   "outputs": [],
   "source": [
    "import importlib\n",
    "import split\n",
    "importlib.reload(split)\n",
    "from split import *"
   ]
  },
  {
   "cell_type": "code",
   "execution_count": 52,
   "id": "95707c96-d77f-46b8-8665-f899564a7220",
   "metadata": {
    "tags": []
   },
   "outputs": [
    {
     "name": "stdout",
     "output_type": "stream",
     "text": [
      "Image organization complete.\n"
     ]
    }
   ],
   "source": [
    "organize_images('/data/core-kind/fatemeh/data/opt/splits/', '/data/core-kind/fatemeh/data/opt', '/data/core-kind/fatemeh/data/opt/organized')"
   ]
  },
  {
   "cell_type": "markdown",
   "id": "3f3a9b3c-749f-49a9-b5c2-8a7a2e46624e",
   "metadata": {},
   "source": [
    "# loss history"
   ]
  },
  {
   "cell_type": "code",
   "execution_count": 217,
   "id": "2d6aa542-019a-40fa-be88-a4d561f28a6e",
   "metadata": {
    "tags": []
   },
   "outputs": [],
   "source": [
    "import matplotlib.pyplot as plt\n",
    "\n",
    "def plot_loss_history(loss_history_dict):\n",
    "    \"\"\"\n",
    "    Plots the training and validation loss over epochs.\n",
    "\n",
    "    Args:\n",
    "        loss_history_dict (dict): A dictionary with keys like 'train' and 'val',\n",
    "                                  where each key contains a list of loss values.\n",
    "                                  Example:\n",
    "                                  {\n",
    "                                      \"train\": [0.9, 0.8, 0.7],\n",
    "                                      \"val\": [1.0, 0.9, 0.85]\n",
    "                                  }\n",
    "\n",
    "    Returns:\n",
    "        None\n",
    "    \"\"\"\n",
    "    # Check if the dictionary contains both 'train' and 'val' keys\n",
    "    if not all(key in loss_history_dict for key in ['train', 'val']):\n",
    "        raise ValueError(\"The dictionary must contain 'train' and 'val' keys.\")\n",
    "\n",
    "    # Extract loss histories\n",
    "    train_loss = loss_history_dict['train']\n",
    "    val_loss = loss_history_dict['val']\n",
    "\n",
    "    # Generate the plot\n",
    "    plt.figure(figsize=(10, 6))\n",
    "    plt.plot(train_loss, label='Train Loss', marker='o')\n",
    "    plt.plot(val_loss, label='Validation Loss', marker='o')\n",
    "    \n",
    "    # Add labels, title, and legend\n",
    "    plt.xlabel('Epochs', fontsize=12)\n",
    "    plt.ylabel('Loss', fontsize=12)\n",
    "    plt.title('Training and Validation Loss over Epochs', fontsize=14)\n",
    "    plt.legend(fontsize=10)\n",
    "    plt.grid(True)\n",
    "    \n",
    "    # Display the plot\n",
    "    plt.tight_layout()\n",
    "    plt.show()\n"
   ]
  },
  {
   "cell_type": "code",
   "execution_count": 218,
   "id": "1b801d3b-57bf-4dc7-acde-5135471d49ba",
   "metadata": {
    "tags": []
   },
   "outputs": [
    {
     "data": {
      "image/png": "[encoded data removed]",
      "text/plain": [
       "<Figure size 1000x600 with 1 Axes>"
      ]
     },
     "metadata": {},
     "output_type": "display_data"
    }
   ],
   "source": [
    "# Example loss history\n",
    "loss_history = {\n",
    "    \"train\": [0.9, 0.8, 0.7, 0.6, 0.5],\n",
    "    \"val\": [1.0, 0.9, 0.85, 0.8, 0.75]\n",
    "}\n",
    "\n",
    "# Plot the loss\n",
    "plot_loss_history(loss_history)\n"
   ]
  },
  {
   "cell_type": "code",
   "execution_count": null,
   "id": "d879f623-e36a-4c8d-90db-c1dcf25d2a4e",
   "metadata": {},
   "outputs": [],
   "source": []
  }
 ],
 "metadata": {
  "kernelspec": {
   "display_name": "Python 3 (ipykernel)",
   "language": "python",
   "name": "python3"
  },
  "language_info": {
   "codemirror_mode": {
    "name": "ipython",
    "version": 3
   },
   "file_extension": ".py",
   "mimetype": "text/x-python",
   "name": "python",
   "nbconvert_exporter": "python",
   "pygments_lexer": "ipython3",
   "version": "3.7.12"
  }
 },
 "nbformat": 4,
 "nbformat_minor": 5
}
